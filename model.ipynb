{
 "cells": [
  {
   "cell_type": "markdown",
   "metadata": {},
   "source": [
    "# Database connection"
   ]
  },
  {
   "cell_type": "code",
   "execution_count": 61,
   "metadata": {},
   "outputs": [],
   "source": [
    "import clickhouse_connect\n",
    "\n",
    "client = clickhouse_connect.get_client(host='localhost', username='cgoeldel', password='Goe1409ldel')\n",
    "\n"
   ]
  },
  {
   "cell_type": "markdown",
   "metadata": {},
   "source": [
    "# Build Pedigree Graph from Nodelist and Edgelist"
   ]
  },
  {
   "cell_type": "code",
   "execution_count": 66,
   "metadata": {},
   "outputs": [],
   "source": [
    "import networkx as nx\n",
    "\n",
    "G = nx.DiGraph()\n",
    "\n",
    "with open(\"nodelist.txt\") as f:\n",
    "    nodes = f.read().splitlines()\n",
    "\n",
    "with open(\"edgelist.txt\") as f:\n",
    "    edges = f.read().splitlines()\n",
    "\n",
    "for node in nodes: \n",
    "\n",
    "    if node == \"filename,node,gen,meth\" or node == \"\":\n",
    "        continue\n",
    "    \n",
    "    filename, node, gen, meth = node.split(',')\n",
    "    \n",
    "    node = {\n",
    "        'filename': filename,\n",
    "        'node': node,\n",
    "        'gen': int(gen),\n",
    "        'meth': True if meth == 'Y' else False\n",
    "    }\n",
    "\n",
    "    \n",
    "\n",
    "    G.add_node(node['node'], **node)\n",
    "\n",
    "for edge in edges:\n",
    "\n",
    "    if edge == \"from,to\":\n",
    "        continue\n",
    "\n",
    "    from_, to_ = edge.split(',')\n",
    "\n",
    "    G.add_edge(from_, to_)\n",
    "\n",
    "def get_predecessor_node(node):\n",
    "    if not node in G:\n",
    "        return None\n",
    "\n",
    "    pred = iter(G.pred[node])\n",
    "\n",
    "    if pred.__length_hint__() == 0:\n",
    "        return None\n",
    "\n",
    "    pred = G.nodes[next(pred)]\n",
    "\n",
    "    if pred[\"meth\"]:\n",
    "        return pred\n",
    "    else:\n",
    "        return get_predecessor_node(pred['node'])\n",
    "\n",
    "def get_pred_node_by_gen_and_line(gen, line):\n",
    "    pred =  get_predecessor_node(f\"{gen}_{line}\")\n",
    "    if pred is None:\n",
    "        return None, None\n",
    "    gen, line = pred[\"node\"].split('_')\n",
    "    return int(gen), int(line)\n"
   ]
  },
  {
   "cell_type": "code",
   "execution_count": 130,
   "metadata": {},
   "outputs": [
    {
     "name": "stdout",
     "output_type": "stream",
     "text": [
      "torch.Size([12, 240]) torch.Size([12, 12]) torch.Size([12, 78])\n",
      "torch.Size([12, 240]) torch.Size([12, 12]) torch.Size([12, 78])\n",
      "torch.Size([12, 240]) torch.Size([12, 12]) torch.Size([12, 78])\n",
      "torch.Size([12, 240]) torch.Size([12, 12]) torch.Size([12, 78])\n",
      "torch.Size([12, 240]) torch.Size([12, 12]) torch.Size([12, 78])\n",
      "torch.Size([12, 240]) torch.Size([12, 12]) torch.Size([12, 78])\n",
      "torch.Size([12, 240]) torch.Size([12, 12]) torch.Size([12, 78])\n",
      "torch.Size([12, 240]) torch.Size([12, 12]) torch.Size([12, 78])\n",
      "torch.Size([12, 240]) torch.Size([12, 12]) torch.Size([12, 78])\n",
      "torch.Size([12, 240]) torch.Size([12, 12]) torch.Size([12, 78])\n",
      "torch.Size([12, 240]) torch.Size([12, 12]) torch.Size([12, 78])\n",
      "torch.Size([12, 240]) torch.Size([12, 12]) torch.Size([12, 78])\n",
      "torch.Size([12, 240]) torch.Size([12, 12]) torch.Size([12, 78])\n",
      "torch.Size([12, 240]) torch.Size([12, 12]) torch.Size([12, 78])\n",
      "torch.Size([12, 240]) torch.Size([12, 12]) torch.Size([12, 78])\n",
      "torch.Size([12, 240]) torch.Size([12, 12]) torch.Size([12, 78])\n",
      "torch.Size([12, 240]) torch.Size([12, 12]) torch.Size([12, 78])\n",
      "torch.Size([12, 240]) torch.Size([12, 12]) torch.Size([12, 78])\n",
      "torch.Size([12, 240]) torch.Size([12, 12]) torch.Size([12, 78])\n",
      "torch.Size([12, 240]) torch.Size([12, 12]) torch.Size([12, 78])\n",
      "torch.Size([12, 240]) torch.Size([12, 12]) torch.Size([12, 78])\n",
      "torch.Size([12, 240]) torch.Size([12, 12]) torch.Size([12, 78])\n",
      "torch.Size([12, 240]) torch.Size([12, 12]) torch.Size([12, 78])\n",
      "torch.Size([12, 240]) torch.Size([12, 12]) torch.Size([12, 78])\n",
      "torch.Size([12, 240]) torch.Size([12, 12]) torch.Size([12, 78])\n",
      "torch.Size([12, 240]) torch.Size([12, 12]) torch.Size([12, 78])\n",
      "torch.Size([12, 240]) torch.Size([12, 12]) torch.Size([12, 78])\n",
      "torch.Size([12, 240]) torch.Size([12, 12]) torch.Size([12, 78])\n",
      "torch.Size([12, 240]) torch.Size([12, 12]) torch.Size([12, 78])\n",
      "torch.Size([12, 240]) torch.Size([12, 12]) torch.Size([12, 78])\n",
      "torch.Size([12, 240]) torch.Size([12, 12]) torch.Size([12, 78])\n",
      "torch.Size([12, 240]) torch.Size([12, 12]) torch.Size([12, 78])\n",
      "torch.Size([384, 330]) torch.Size([384])\n"
     ]
    }
   ],
   "source": [
    "import polars as pl\n",
    "from IPython.display import display\n",
    "import torch\n",
    "\n",
    "batch_size = 32\n",
    "\n",
    "cs_neighbours = 5\n",
    "hist_mod_neighbours = 20\n",
    "gene_neighbours = 1\n",
    "meth_neighbours = 20\n",
    "\n",
    "mutables = 5 # not implemented yet\n",
    "\n",
    "\n",
    "\n",
    "\n",
    "samples = client.query(\"select count(distinct(generation, line)) from methylome\")\n",
    "samples = samples.result_rows[0][0]\n",
    "\n",
    "hist_mod_dict = {\n",
    "   \"input\" : 1,\n",
    "   \"H3\" : 2,\n",
    "   \"H3K4Me1\" : 3,\n",
    "   \"H3K27Me3\" : 4,\n",
    "   \"H2AZ\" : 5,\n",
    "   \"H3K56Ac\" : 6,\n",
    "   \"H3K4Me3\" : 7    \n",
    "}\n",
    "\n",
    "\n",
    "\n",
    "\n",
    "def get_neighbours(site):\n",
    "    # get surrounding genes\n",
    "    genes = client.query_arrow(f\"select type, ({site['location']} - start) as start_diff, ({site['location']} - end) as end_diff from genes where chromosome = {site['chromosome']} and strand = {site['strand']} order by abs(start_diff) limit {gene_neighbours}\")\n",
    "    g = pl.DataFrame(genes)\n",
    "    # display(g)\n",
    "    # Get surrounding histone mods \n",
    "    histone_mods = client.query_arrow(f\"select modification, ({site['location']} - start ) as start_diff, ({site['location']} - end) as end_diff from histone_mods where chromosome = {site['chromosome']}  order by abs(start_diff) limit {hist_mod_neighbours}\")\n",
    "    h = pl.DataFrame(histone_mods)\n",
    "    h = h.with_columns(pl.col(\"modification\").map_dict(hist_mod_dict).alias(\"modification\"))\n",
    "    # display(h)\n",
    "    # Get surrounding chromatine states\n",
    "    chr_states = client.query_arrow(f\"select state, ({site['location']} - start ) as start_diff, ({site['location']} -end) as end_diff from chr_states where chromosome = {site['chromosome']} order by abs(start_diff) limit {cs_neighbours } \")\n",
    "\n",
    "    c = pl.DataFrame(chr_states)\n",
    "    # display(c)\n",
    "    # Get each site in all generations and lines                                                                                                                                                                                                                                                           The target site will be excluded later\n",
    "    all_generations_and_neighbours = client.query_arrow(f\"select * except (trinucleotide_context, pedigree, id), ({site['location']} - location ) as location_diff from methylome where chromosome = {site['chromosome']} and strand = {site['strand']} order by abs(location_diff), location_diff, generation, line limit {(meth_neighbours +1)  * samples}\")\n",
    "    m = pl.DataFrame(all_generations_and_neighbours) # (meth_neighbours * samples, 12)\n",
    "    # display(m)\n",
    "\n",
    "    site_across_generations = m.filter(pl.col(\"location_diff\") == 0)\n",
    "    m = m.filter(pl.col(\"location_diff\") != 0)\n",
    "   \n",
    "    m = m.filter((pl.col(\"generation\") != 0) & (pl.col(\"line\") != 0))\n",
    "\n",
    "    preds = []\n",
    "    targets = []\n",
    "    for site in site_across_generations.iter_rows(named=True):\n",
    "        pred_gen, pred_line = get_pred_node_by_gen_and_line(site[\"generation\"], site[\"line\"])\n",
    "        if not pred_gen is None:\n",
    "            pred = site_across_generations.filter((pl.col(\"generation\") == pred_gen) & (pl.col(\"line\") == pred_line)) # (1, 12)\n",
    "            preds.append(torch.tensor(pred.to_numpy()[0]))\n",
    "            targets.append(site[\"meth_lvl\"])\n",
    "\n",
    "    t = torch.tensor(targets)\n",
    "    p = torch.stack(preds) # (samples - 1, 12)\n",
    "    g = torch.tensor(g.to_numpy()) \n",
    "    m = torch.tensor(m.to_numpy()).T \n",
    "    h = torch.tensor(h.to_numpy())\n",
    "    c = torch.tensor(c.to_numpy())\n",
    "\n",
    "\n",
    "    m = m.reshape((samples-1), 12 * meth_neighbours) # (samples -1, concatenated neighbours)\n",
    "    \n",
    "    # These are time-invariant\n",
    "    g = g.reshape(3 * gene_neighbours)\n",
    "    h = h.reshape(3 * hist_mod_neighbours)\n",
    "    c = c.reshape(3* cs_neighbours)\n",
    "\n",
    "    # surroundings \n",
    "    s = torch.cat([g, c, h])\n",
    "    s = s.expand((samples -1), -1)\n",
    "\n",
    "    x = torch.cat([m, p, s], dim=1)\n",
    "\n",
    "\n",
    "    return x, t\n",
    "\n",
    "def get_batch(mode):\n",
    "    offset = 0. if mode == \"train\" else 0.9\n",
    "    sample = 0.9 if mode == \"train\" else 0.1\n",
    "    sites =  client.query_arrow(f\"select * except (trinucleotide_context, pedigree, id) from methylome sample {sample} offset {offset} where generation = 0 order by rand() limit {batch_size}\")\n",
    "\n",
    "    df = pl.DataFrame(sites)\n",
    "    # display(df)\n",
    "\n",
    "    xs = []\n",
    "    targets = []\n",
    "    for site in df.iter_rows(named=True):\n",
    "        x, target = get_neighbours(site)\n",
    "        xs.append(x)\n",
    "        targets.append(target)\n",
    "   \n",
    "    data = torch.cat(xs)\n",
    "    targets = torch.cat(targets)\n",
    "    return data, targets\n",
    "    \n",
    "\n",
    "data, targets = get_batch(\"train\")\n",
    "print(data.shape, targets.shape)"
   ]
  },
  {
   "cell_type": "code",
   "execution_count": null,
   "metadata": {},
   "outputs": [
    {
     "data": {
      "text/html": [
       "<div><style>\n",
       ".dataframe > thead > tr > th,\n",
       ".dataframe > tbody > tr > td {\n",
       "  text-align: right;\n",
       "  white-space: pre-wrap;\n",
       "}\n",
       "</style>\n",
       "<small>shape: (65, 5)</small><table border=\"1\" class=\"dataframe\"><thead><tr><th>samples</th><th>chromosome</th><th>generation</th><th>line</th><th>pedigree</th></tr><tr><td>u64</td><td>u8</td><td>u8</td><td>u8</td><td>str</td></tr></thead><tbody><tr><td>10856447</td><td>1</td><td>0</td><td>0</td><td>&quot;MA3&quot;</td></tr><tr><td>10856447</td><td>1</td><td>1</td><td>2</td><td>&quot;MA3&quot;</td></tr><tr><td>10856447</td><td>1</td><td>1</td><td>8</td><td>&quot;MA3&quot;</td></tr><tr><td>10856447</td><td>1</td><td>2</td><td>2</td><td>&quot;MA3&quot;</td></tr><tr><td>10856447</td><td>1</td><td>2</td><td>8</td><td>&quot;MA3&quot;</td></tr><tr><td>10856447</td><td>1</td><td>4</td><td>2</td><td>&quot;MA3&quot;</td></tr><tr><td>10856447</td><td>1</td><td>4</td><td>8</td><td>&quot;MA3&quot;</td></tr><tr><td>10856447</td><td>1</td><td>5</td><td>2</td><td>&quot;MA3&quot;</td></tr><tr><td>10856447</td><td>1</td><td>5</td><td>8</td><td>&quot;MA3&quot;</td></tr><tr><td>10856447</td><td>1</td><td>8</td><td>2</td><td>&quot;MA3&quot;</td></tr><tr><td>10856447</td><td>1</td><td>8</td><td>8</td><td>&quot;MA3&quot;</td></tr><tr><td>10856447</td><td>1</td><td>11</td><td>2</td><td>&quot;MA3&quot;</td></tr><tr><td>&hellip;</td><td>&hellip;</td><td>&hellip;</td><td>&hellip;</td><td>&hellip;</td></tr><tr><td>9690976</td><td>5</td><td>1</td><td>2</td><td>&quot;MA3&quot;</td></tr><tr><td>9690976</td><td>5</td><td>1</td><td>8</td><td>&quot;MA3&quot;</td></tr><tr><td>9690976</td><td>5</td><td>2</td><td>2</td><td>&quot;MA3&quot;</td></tr><tr><td>9690976</td><td>5</td><td>2</td><td>8</td><td>&quot;MA3&quot;</td></tr><tr><td>9690976</td><td>5</td><td>4</td><td>2</td><td>&quot;MA3&quot;</td></tr><tr><td>9690976</td><td>5</td><td>4</td><td>8</td><td>&quot;MA3&quot;</td></tr><tr><td>9690976</td><td>5</td><td>5</td><td>2</td><td>&quot;MA3&quot;</td></tr><tr><td>9690976</td><td>5</td><td>5</td><td>8</td><td>&quot;MA3&quot;</td></tr><tr><td>9690976</td><td>5</td><td>8</td><td>2</td><td>&quot;MA3&quot;</td></tr><tr><td>9690976</td><td>5</td><td>8</td><td>8</td><td>&quot;MA3&quot;</td></tr><tr><td>9690976</td><td>5</td><td>11</td><td>2</td><td>&quot;MA3&quot;</td></tr><tr><td>9690976</td><td>5</td><td>11</td><td>8</td><td>&quot;MA3&quot;</td></tr></tbody></table></div>"
      ],
      "text/plain": [
       "shape: (65, 5)\n",
       "┌──────────┬────────────┬────────────┬──────┬──────────┐\n",
       "│ samples  ┆ chromosome ┆ generation ┆ line ┆ pedigree │\n",
       "│ ---      ┆ ---        ┆ ---        ┆ ---  ┆ ---      │\n",
       "│ u64      ┆ u8         ┆ u8         ┆ u8   ┆ str      │\n",
       "╞══════════╪════════════╪════════════╪══════╪══════════╡\n",
       "│ 10856447 ┆ 1          ┆ 0          ┆ 0    ┆ MA3      │\n",
       "│ 10856447 ┆ 1          ┆ 1          ┆ 2    ┆ MA3      │\n",
       "│ 10856447 ┆ 1          ┆ 1          ┆ 8    ┆ MA3      │\n",
       "│ 10856447 ┆ 1          ┆ 2          ┆ 2    ┆ MA3      │\n",
       "│ …        ┆ …          ┆ …          ┆ …    ┆ …        │\n",
       "│ 9690976  ┆ 5          ┆ 8          ┆ 2    ┆ MA3      │\n",
       "│ 9690976  ┆ 5          ┆ 8          ┆ 8    ┆ MA3      │\n",
       "│ 9690976  ┆ 5          ┆ 11         ┆ 2    ┆ MA3      │\n",
       "│ 9690976  ┆ 5          ┆ 11         ┆ 8    ┆ MA3      │\n",
       "└──────────┴────────────┴────────────┴──────┴──────────┘"
      ]
     },
     "execution_count": 3,
     "metadata": {},
     "output_type": "execute_result"
    }
   ],
   "source": [
    "import polars as pl\n",
    "import pyarrow as pa\n",
    "\n",
    "data_sizes = client.query_arrow(\"Select count(*) as samples,chromosome, generation, line, pedigree from methylome_wt group by chromosome, pedigree, generation, line order by chromosome, generation, line\")\n",
    "num_chromosomes = len(data_sizes['chromosome'].unique())\n",
    "\n",
    "data_sizes = pl.DataFrame(data_sizes)\n",
    "data_sizes"
   ]
  },
  {
   "cell_type": "code",
   "execution_count": null,
   "metadata": {},
   "outputs": [
    {
     "data": {
      "text/plain": [
       "{4: 6727432, 5: 9690976, 2: 7063707, 1: 10856447, 3: 8520954}"
      ]
     },
     "execution_count": 66,
     "metadata": {},
     "output_type": "execute_result"
    }
   ],
   "source": [
    "samples_per_chromosome = data_sizes.group_by(\"chromosome\").agg(pl.col(\"samples\").min())\n",
    "samples_per_chromosome =  samples_per_chromosome.to_struct(\"samples\")\n",
    "\n",
    "samples_per_chromosome.to_list()\n",
    "samples_per_chromosome = {item['chromosome']:item['samples'] for item in samples_per_chromosome.to_list()}\n",
    "samples_per_chromosome"
   ]
  },
  {
   "cell_type": "code",
   "execution_count": null,
   "metadata": {},
   "outputs": [
    {
     "data": {
      "text/plain": [
       "torch.Size([10000, 13])"
      ]
     },
     "execution_count": 27,
     "metadata": {},
     "output_type": "execute_result"
    }
   ],
   "source": [
    "import torch\n",
    "pedigree_dict = {\n",
    "    'MA3': 0,\n",
    "    'CMT3': 1,\n",
    "    'SUV456': 2,\n",
    "    'ROS': 3,\n",
    "    'NRPE': 4\n",
    "}\n",
    "\n",
    "trinucleotide_context = {\n",
    "'CTC': 0, \n",
    " 'CGA': 1,\n",
    " 'CCC':  2,\n",
    " 'CAT':  3,\n",
    " 'CCG':  4,\n",
    " 'CTG':  5,\n",
    " 'CAA':  6,\n",
    " 'CGT':  7,\n",
    " 'CTT':  8,\n",
    " 'CGG':  9,\n",
    " 'CGN':  10,\n",
    " 'CAC':  11,\n",
    " 'CCT':  12,\n",
    " 'CTA':  13,\n",
    " 'CGS':  14,\n",
    " 'CAG':  15,\n",
    " 'CGC':  16,\n",
    " 'CGK':  17,\n",
    " 'CCA': 18,\n",
    "}\n",
    "\n",
    "device = 'cuda' if torch.cuda.is_available() else 'cpu'\n",
    "\n",
    "def encode_methylome(df): \n",
    "    df = df.with_columns(\n",
    "        pl.col(\"pedigree\").map_dict(pedigree_dict).alias(\"pedigree\"),\n",
    "        pl.col(\"trinucelotide_context\").map_dict(trinucleotide_context).alias(\"trinucelotide_context\"),\n",
    "    )\n",
    "\n",
    "    data = torch.tensor(df.to_numpy(), dtype=torch.float32 ,device=device)\n",
    "\n",
    "    return data\n",
    "    # torch.tensor(df.to_numpy, dtype=torch.float32 ,device=device)\n",
    "\n",
    "batch_size = 6 * num_chromosomes # 6 samples per chromosome = 30 samples per batch\n",
    "block_size = 8\n",
    "\n",
    "def get_batch(context): \n",
    "    for i in range(num_chromosomes):\n",
    "\n",
    "        idx = torch.randint(0, samples_per_chromosome[i] - block_size, (batch_size,))\n",
    "\n",
    "    \n",
    "        methylome_first_batch = client.query_arrow(\"select * from methylome_wt where location between 0 and 100000 limit 1000\")\n",
    "    "
   ]
  },
  {
   "cell_type": "code",
   "execution_count": null,
   "metadata": {},
   "outputs": [
    {
     "data": {
      "text/plain": [
       "5"
      ]
     },
     "execution_count": 39,
     "metadata": {},
     "output_type": "execute_result"
    }
   ],
   "source": [
    "chromosome_lengths = "
   ]
  }
 ],
 "metadata": {
  "kernelspec": {
   "display_name": "Python 3",
   "language": "python",
   "name": "python3"
  },
  "language_info": {
   "codemirror_mode": {
    "name": "ipython",
    "version": 3
   },
   "file_extension": ".py",
   "mimetype": "text/x-python",
   "name": "python",
   "nbconvert_exporter": "python",
   "pygments_lexer": "ipython3",
   "version": "3.10.12"
  }
 },
 "nbformat": 4,
 "nbformat_minor": 2
}
