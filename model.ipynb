{
 "cells": [
  {
   "cell_type": "code",
   "execution_count": 1,
   "metadata": {},
   "outputs": [],
   "source": [
    "import clickhouse_connect\n",
    "\n",
    "client = clickhouse_connect.get_client(host='localhost', username='cgoeldel', password='Goe1409ldel')\n",
    "\n"
   ]
  },
  {
   "cell_type": "code",
   "execution_count": 48,
   "metadata": {},
   "outputs": [
    {
     "name": "stdout",
     "output_type": "stream",
     "text": [
      "torch.Size([32, 1665])\n"
     ]
    }
   ],
   "source": [
    "import polars as pl\n",
    "from IPython.display import display\n",
    "import torch\n",
    "\n",
    "batch_size = 32\n",
    "neighbourhood_size = 10\n",
    "neighbours = 10\n",
    "\n",
    "samples = client.query(\"select count(distinct(generation, line)) from methylome\")\n",
    "samples = samples.result_rows[0][0]\n",
    "\n",
    "hist_mod_dict = {\n",
    "   \"input\" : 1,\n",
    "   \"H3\" : 2,\n",
    "   \"H3K4Me1\" : 3,\n",
    "   \"H3K27Me3\" : 4,\n",
    "   \"H2AZ\" : 5,\n",
    "   \"H3K56Ac\" : 6,\n",
    "   \"H3K4Me3\" : 7    \n",
    "}\n",
    "\n",
    "\n",
    "def get_neighbours(site):\n",
    "    # get surrounding genes\n",
    "    genes = client.query_arrow(f\"select type, ({site['location']} - start) as start_diff, ({site['location']} - end) as end_diff from genes where chromosome = {site['chromosome']} and strand = {site['strand']} order by abs(start_diff) limit {neighbours}\")\n",
    "    g = pl.DataFrame(genes)\n",
    "    # display(g)\n",
    "    # Get surrounding histone mods \n",
    "    histone_mods = client.query_arrow(f\"select modification, ({site['location']} - start ) as start_diff, ({site['location']} - end) as end_diff from histone_mods where chromosome = {site['chromosome']}  order by abs(start_diff) limit {neighbours * 2}\")\n",
    "    h = pl.DataFrame(histone_mods)\n",
    "    h = h.with_columns(pl.col(\"modification\").map_dict(hist_mod_dict).alias(\"modification\"))\n",
    "    # display(h)\n",
    "    # Get surrounding chromatine states\n",
    "    chr_states = client.query_arrow(f\"select state, ({site['location']} - start ) as start_diff, ({site['location']} -end) as end_diff from chr_states where chromosome = {site['chromosome']} order by abs(start_diff) limit {neighbours / 2 } \")\n",
    "\n",
    "    c = pl.DataFrame(chr_states)\n",
    "    # display(c)\n",
    "    # Get each site in all generations and lines\n",
    "    all_generations_and_neighbours = client.query_arrow(f\"select * except (trinucleotide_context, pedigree, id), ({site['location']} - location ) as location_diff from methylome where chromosome = {site['chromosome']} and strand = {site['strand']} order by abs(location_diff), generation, line limit {neighbours * samples}\")\n",
    "    m = pl.DataFrame(all_generations_and_neighbours)\n",
    "    # display(m)\n",
    "\n",
    "    \n",
    "    g = torch.tensor(g.to_numpy()) \n",
    "    m = torch.tensor(m.to_numpy())\n",
    "    h = torch.tensor(h.to_numpy())\n",
    "    c = torch.tensor(c.to_numpy())\n",
    "\n",
    "\n",
    "    m = m.reshape(12 * neighbours * samples)\n",
    "    g = g.reshape(3 * neighbours)\n",
    "    h = h.reshape(3* neighbours * 2)\n",
    "    c = c.reshape(3* int(neighbours / 2))\n",
    "\n",
    "    return torch.cat([m, g, h, c])\n",
    "\n",
    "def get_batch(mode):\n",
    "    offset = 0. if mode == \"train\" else 0.9\n",
    "    sample = 0.9 if mode == \"train\" else 0.1\n",
    "    sites =  client.query_arrow(f\"select * except (trinucleotide_context, pedigree, id) from methylome sample {sample} offset {offset} where generation = 0 order by rand() limit {batch_size}\")\n",
    "\n",
    "    df = pl.DataFrame(sites)\n",
    "    # display(df)\n",
    "   \n",
    "    data = torch.stack([get_neighbours(site) for site in df.iter_rows(named=True)])\n",
    "    print(data.shape)\n",
    "    return data\n",
    "       \n",
    "\n",
    "data = get_batch(\"train\")"
   ]
  },
  {
   "cell_type": "code",
   "execution_count": 3,
   "metadata": {},
   "outputs": [
    {
     "data": {
      "text/html": [
       "<div><style>\n",
       ".dataframe > thead > tr > th,\n",
       ".dataframe > tbody > tr > td {\n",
       "  text-align: right;\n",
       "  white-space: pre-wrap;\n",
       "}\n",
       "</style>\n",
       "<small>shape: (65, 5)</small><table border=\"1\" class=\"dataframe\"><thead><tr><th>samples</th><th>chromosome</th><th>generation</th><th>line</th><th>pedigree</th></tr><tr><td>u64</td><td>u8</td><td>u8</td><td>u8</td><td>str</td></tr></thead><tbody><tr><td>10856447</td><td>1</td><td>0</td><td>0</td><td>&quot;MA3&quot;</td></tr><tr><td>10856447</td><td>1</td><td>1</td><td>2</td><td>&quot;MA3&quot;</td></tr><tr><td>10856447</td><td>1</td><td>1</td><td>8</td><td>&quot;MA3&quot;</td></tr><tr><td>10856447</td><td>1</td><td>2</td><td>2</td><td>&quot;MA3&quot;</td></tr><tr><td>10856447</td><td>1</td><td>2</td><td>8</td><td>&quot;MA3&quot;</td></tr><tr><td>10856447</td><td>1</td><td>4</td><td>2</td><td>&quot;MA3&quot;</td></tr><tr><td>10856447</td><td>1</td><td>4</td><td>8</td><td>&quot;MA3&quot;</td></tr><tr><td>10856447</td><td>1</td><td>5</td><td>2</td><td>&quot;MA3&quot;</td></tr><tr><td>10856447</td><td>1</td><td>5</td><td>8</td><td>&quot;MA3&quot;</td></tr><tr><td>10856447</td><td>1</td><td>8</td><td>2</td><td>&quot;MA3&quot;</td></tr><tr><td>10856447</td><td>1</td><td>8</td><td>8</td><td>&quot;MA3&quot;</td></tr><tr><td>10856447</td><td>1</td><td>11</td><td>2</td><td>&quot;MA3&quot;</td></tr><tr><td>&hellip;</td><td>&hellip;</td><td>&hellip;</td><td>&hellip;</td><td>&hellip;</td></tr><tr><td>9690976</td><td>5</td><td>1</td><td>2</td><td>&quot;MA3&quot;</td></tr><tr><td>9690976</td><td>5</td><td>1</td><td>8</td><td>&quot;MA3&quot;</td></tr><tr><td>9690976</td><td>5</td><td>2</td><td>2</td><td>&quot;MA3&quot;</td></tr><tr><td>9690976</td><td>5</td><td>2</td><td>8</td><td>&quot;MA3&quot;</td></tr><tr><td>9690976</td><td>5</td><td>4</td><td>2</td><td>&quot;MA3&quot;</td></tr><tr><td>9690976</td><td>5</td><td>4</td><td>8</td><td>&quot;MA3&quot;</td></tr><tr><td>9690976</td><td>5</td><td>5</td><td>2</td><td>&quot;MA3&quot;</td></tr><tr><td>9690976</td><td>5</td><td>5</td><td>8</td><td>&quot;MA3&quot;</td></tr><tr><td>9690976</td><td>5</td><td>8</td><td>2</td><td>&quot;MA3&quot;</td></tr><tr><td>9690976</td><td>5</td><td>8</td><td>8</td><td>&quot;MA3&quot;</td></tr><tr><td>9690976</td><td>5</td><td>11</td><td>2</td><td>&quot;MA3&quot;</td></tr><tr><td>9690976</td><td>5</td><td>11</td><td>8</td><td>&quot;MA3&quot;</td></tr></tbody></table></div>"
      ],
      "text/plain": [
       "shape: (65, 5)\n",
       "┌──────────┬────────────┬────────────┬──────┬──────────┐\n",
       "│ samples  ┆ chromosome ┆ generation ┆ line ┆ pedigree │\n",
       "│ ---      ┆ ---        ┆ ---        ┆ ---  ┆ ---      │\n",
       "│ u64      ┆ u8         ┆ u8         ┆ u8   ┆ str      │\n",
       "╞══════════╪════════════╪════════════╪══════╪══════════╡\n",
       "│ 10856447 ┆ 1          ┆ 0          ┆ 0    ┆ MA3      │\n",
       "│ 10856447 ┆ 1          ┆ 1          ┆ 2    ┆ MA3      │\n",
       "│ 10856447 ┆ 1          ┆ 1          ┆ 8    ┆ MA3      │\n",
       "│ 10856447 ┆ 1          ┆ 2          ┆ 2    ┆ MA3      │\n",
       "│ …        ┆ …          ┆ …          ┆ …    ┆ …        │\n",
       "│ 9690976  ┆ 5          ┆ 8          ┆ 2    ┆ MA3      │\n",
       "│ 9690976  ┆ 5          ┆ 8          ┆ 8    ┆ MA3      │\n",
       "│ 9690976  ┆ 5          ┆ 11         ┆ 2    ┆ MA3      │\n",
       "│ 9690976  ┆ 5          ┆ 11         ┆ 8    ┆ MA3      │\n",
       "└──────────┴────────────┴────────────┴──────┴──────────┘"
      ]
     },
     "execution_count": 3,
     "metadata": {},
     "output_type": "execute_result"
    }
   ],
   "source": [
    "import polars as pl\n",
    "import pyarrow as pa\n",
    "\n",
    "data_sizes = client.query_arrow(\"Select count(*) as samples,chromosome, generation, line, pedigree from methylome_wt group by chromosome, pedigree, generation, line order by chromosome, generation, line\")\n",
    "num_chromosomes = len(data_sizes['chromosome'].unique())\n",
    "\n",
    "data_sizes = pl.DataFrame(data_sizes)\n",
    "data_sizes"
   ]
  },
  {
   "cell_type": "code",
   "execution_count": null,
   "metadata": {},
   "outputs": [
    {
     "data": {
      "text/plain": [
       "{4: 6727432, 5: 9690976, 2: 7063707, 1: 10856447, 3: 8520954}"
      ]
     },
     "execution_count": 66,
     "metadata": {},
     "output_type": "execute_result"
    }
   ],
   "source": [
    "samples_per_chromosome = data_sizes.group_by(\"chromosome\").agg(pl.col(\"samples\").min())\n",
    "samples_per_chromosome =  samples_per_chromosome.to_struct(\"samples\")\n",
    "\n",
    "samples_per_chromosome.to_list()\n",
    "samples_per_chromosome = {item['chromosome']:item['samples'] for item in samples_per_chromosome.to_list()}\n",
    "samples_per_chromosome"
   ]
  },
  {
   "cell_type": "code",
   "execution_count": null,
   "metadata": {},
   "outputs": [
    {
     "data": {
      "text/plain": [
       "torch.Size([10000, 13])"
      ]
     },
     "execution_count": 27,
     "metadata": {},
     "output_type": "execute_result"
    }
   ],
   "source": [
    "import torch\n",
    "pedigree_dict = {\n",
    "    'MA3': 0,\n",
    "    'CMT3': 1,\n",
    "    'SUV456': 2,\n",
    "    'ROS': 3,\n",
    "    'NRPE': 4\n",
    "}\n",
    "\n",
    "trinucleotide_context = {\n",
    "'CTC': 0, \n",
    " 'CGA': 1,\n",
    " 'CCC':  2,\n",
    " 'CAT':  3,\n",
    " 'CCG':  4,\n",
    " 'CTG':  5,\n",
    " 'CAA':  6,\n",
    " 'CGT':  7,\n",
    " 'CTT':  8,\n",
    " 'CGG':  9,\n",
    " 'CGN':  10,\n",
    " 'CAC':  11,\n",
    " 'CCT':  12,\n",
    " 'CTA':  13,\n",
    " 'CGS':  14,\n",
    " 'CAG':  15,\n",
    " 'CGC':  16,\n",
    " 'CGK':  17,\n",
    " 'CCA': 18,\n",
    "}\n",
    "\n",
    "device = 'cuda' if torch.cuda.is_available() else 'cpu'\n",
    "\n",
    "def encode_methylome(df): \n",
    "    df = df.with_columns(\n",
    "        pl.col(\"pedigree\").map_dict(pedigree_dict).alias(\"pedigree\"),\n",
    "        pl.col(\"trinucelotide_context\").map_dict(trinucleotide_context).alias(\"trinucelotide_context\"),\n",
    "    )\n",
    "\n",
    "    data = torch.tensor(df.to_numpy(), dtype=torch.float32 ,device=device)\n",
    "\n",
    "    return data\n",
    "    # torch.tensor(df.to_numpy, dtype=torch.float32 ,device=device)\n",
    "\n",
    "batch_size = 6 * num_chromosomes # 6 samples per chromosome = 30 samples per batch\n",
    "block_size = 8\n",
    "\n",
    "def get_batch(context): \n",
    "    for i in range(num_chromosomes):\n",
    "\n",
    "        idx = torch.randint(0, samples_per_chromosome[i] - block_size, (batch_size,))\n",
    "\n",
    "    \n",
    "        methylome_first_batch = client.query_arrow(\"select * from methylome_wt where location between 0 and 100000 limit 1000\")\n",
    "    "
   ]
  },
  {
   "cell_type": "code",
   "execution_count": null,
   "metadata": {},
   "outputs": [
    {
     "data": {
      "text/plain": [
       "5"
      ]
     },
     "execution_count": 39,
     "metadata": {},
     "output_type": "execute_result"
    }
   ],
   "source": [
    "chromosome_lengths = "
   ]
  }
 ],
 "metadata": {
  "kernelspec": {
   "display_name": "Python 3",
   "language": "python",
   "name": "python3"
  },
  "language_info": {
   "codemirror_mode": {
    "name": "ipython",
    "version": 3
   },
   "file_extension": ".py",
   "mimetype": "text/x-python",
   "name": "python",
   "nbconvert_exporter": "python",
   "pygments_lexer": "ipython3",
   "version": "3.10.12"
  }
 },
 "nbformat": 4,
 "nbformat_minor": 2
}
