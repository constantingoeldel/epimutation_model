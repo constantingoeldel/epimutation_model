{
 "cells": [
  {
   "cell_type": "code",
   "execution_count": 1,
   "metadata": {},
   "outputs": [],
   "source": [
    "import clickhouse_connect\n",
    "\n",
    "client = clickhouse_connect.get_client(host='localhost', username='cgoeldel', password='Goe1409ldel')\n",
    "\n"
   ]
  },
  {
   "cell_type": "code",
   "execution_count": 2,
   "metadata": {},
   "outputs": [
    {
     "name": "stdout",
     "output_type": "stream",
     "text": [
      "{'chromosome': 3, 'location': 5856282, 'strand': 2, 'context': 3, 'count_methylated': 0, 'count_total': 14, 'posteriormax': 0.9998999834060669, 'status': 1, 'meth_lvl': 0.0017000000225380063, 'generation': 0, 'line': 0, 'start': 5855632, 'end': 5859189, 'type': 2, 'start_diff': 650, 'end_diff': -2907}\n"
     ]
    },
    {
     "data": {
      "text/html": [
       "<div><style>\n",
       ".dataframe > thead > tr > th,\n",
       ".dataframe > tbody > tr > td {\n",
       "  text-align: right;\n",
       "  white-space: pre-wrap;\n",
       "}\n",
       "</style>\n",
       "<small>shape: (26, 11)</small><table border=\"1\" class=\"dataframe\"><thead><tr><th>chromosome</th><th>location</th><th>strand</th><th>context</th><th>count_methylated</th><th>count_total</th><th>posteriormax</th><th>status</th><th>meth_lvl</th><th>generation</th><th>line</th></tr><tr><td>u8</td><td>u32</td><td>i8</td><td>i8</td><td>u8</td><td>u8</td><td>f32</td><td>i8</td><td>f32</td><td>u8</td><td>u8</td></tr></thead><tbody><tr><td>3</td><td>5856281</td><td>2</td><td>3</td><td>0</td><td>14</td><td>0.9999</td><td>1</td><td>0.0017</td><td>0</td><td>0</td></tr><tr><td>3</td><td>5856282</td><td>2</td><td>3</td><td>0</td><td>14</td><td>0.9999</td><td>1</td><td>0.0017</td><td>0</td><td>0</td></tr><tr><td>3</td><td>5856281</td><td>2</td><td>3</td><td>0</td><td>16</td><td>0.9999</td><td>1</td><td>0.0014</td><td>1</td><td>2</td></tr><tr><td>3</td><td>5856282</td><td>2</td><td>3</td><td>1</td><td>15</td><td>0.9997</td><td>1</td><td>0.0014</td><td>1</td><td>2</td></tr><tr><td>3</td><td>5856281</td><td>2</td><td>3</td><td>0</td><td>9</td><td>0.9999</td><td>1</td><td>0.0014</td><td>1</td><td>8</td></tr><tr><td>3</td><td>5856282</td><td>2</td><td>3</td><td>0</td><td>10</td><td>0.9999</td><td>1</td><td>0.0014</td><td>1</td><td>8</td></tr><tr><td>3</td><td>5856281</td><td>2</td><td>3</td><td>0</td><td>16</td><td>0.9999</td><td>1</td><td>0.0014</td><td>2</td><td>2</td></tr><tr><td>3</td><td>5856282</td><td>2</td><td>3</td><td>0</td><td>16</td><td>0.9999</td><td>1</td><td>0.0014</td><td>2</td><td>2</td></tr><tr><td>3</td><td>5856281</td><td>2</td><td>3</td><td>0</td><td>17</td><td>0.9999</td><td>1</td><td>0.0015</td><td>2</td><td>8</td></tr><tr><td>3</td><td>5856282</td><td>2</td><td>3</td><td>0</td><td>17</td><td>0.9999</td><td>1</td><td>0.0015</td><td>2</td><td>8</td></tr><tr><td>3</td><td>5856281</td><td>2</td><td>3</td><td>0</td><td>20</td><td>0.9999</td><td>1</td><td>0.0012</td><td>4</td><td>2</td></tr><tr><td>3</td><td>5856282</td><td>2</td><td>3</td><td>0</td><td>20</td><td>0.9999</td><td>1</td><td>0.0012</td><td>4</td><td>2</td></tr><tr><td>&hellip;</td><td>&hellip;</td><td>&hellip;</td><td>&hellip;</td><td>&hellip;</td><td>&hellip;</td><td>&hellip;</td><td>&hellip;</td><td>&hellip;</td><td>&hellip;</td><td>&hellip;</td></tr><tr><td>3</td><td>5856281</td><td>2</td><td>3</td><td>0</td><td>18</td><td>0.9999</td><td>1</td><td>0.0013</td><td>5</td><td>2</td></tr><tr><td>3</td><td>5856282</td><td>2</td><td>3</td><td>0</td><td>19</td><td>0.9999</td><td>1</td><td>0.0013</td><td>5</td><td>2</td></tr><tr><td>3</td><td>5856281</td><td>2</td><td>3</td><td>0</td><td>16</td><td>0.9999</td><td>1</td><td>0.0012</td><td>5</td><td>8</td></tr><tr><td>3</td><td>5856282</td><td>2</td><td>3</td><td>0</td><td>16</td><td>0.9999</td><td>1</td><td>0.0012</td><td>5</td><td>8</td></tr><tr><td>3</td><td>5856281</td><td>2</td><td>3</td><td>0</td><td>17</td><td>0.9999</td><td>1</td><td>0.0014</td><td>8</td><td>2</td></tr><tr><td>3</td><td>5856282</td><td>2</td><td>3</td><td>0</td><td>17</td><td>0.9999</td><td>1</td><td>0.0014</td><td>8</td><td>2</td></tr><tr><td>3</td><td>5856281</td><td>2</td><td>3</td><td>0</td><td>16</td><td>0.9999</td><td>1</td><td>0.0013</td><td>8</td><td>8</td></tr><tr><td>3</td><td>5856282</td><td>2</td><td>3</td><td>0</td><td>15</td><td>0.9999</td><td>1</td><td>0.0013</td><td>8</td><td>8</td></tr><tr><td>3</td><td>5856281</td><td>2</td><td>3</td><td>0</td><td>20</td><td>0.9999</td><td>1</td><td>0.0013</td><td>11</td><td>2</td></tr><tr><td>3</td><td>5856282</td><td>2</td><td>3</td><td>0</td><td>20</td><td>0.9999</td><td>1</td><td>0.0013</td><td>11</td><td>2</td></tr><tr><td>3</td><td>5856281</td><td>2</td><td>3</td><td>0</td><td>37</td><td>0.9999</td><td>1</td><td>0.0016</td><td>11</td><td>8</td></tr><tr><td>3</td><td>5856282</td><td>2</td><td>3</td><td>0</td><td>37</td><td>0.9999</td><td>1</td><td>0.0016</td><td>11</td><td>8</td></tr></tbody></table></div>"
      ],
      "text/plain": [
       "shape: (26, 11)\n",
       "┌────────────┬──────────┬────────┬─────────┬───┬────────┬──────────┬────────────┬──────┐\n",
       "│ chromosome ┆ location ┆ strand ┆ context ┆ … ┆ status ┆ meth_lvl ┆ generation ┆ line │\n",
       "│ ---        ┆ ---      ┆ ---    ┆ ---     ┆   ┆ ---    ┆ ---      ┆ ---        ┆ ---  │\n",
       "│ u8         ┆ u32      ┆ i8     ┆ i8      ┆   ┆ i8     ┆ f32      ┆ u8         ┆ u8   │\n",
       "╞════════════╪══════════╪════════╪═════════╪═══╪════════╪══════════╪════════════╪══════╡\n",
       "│ 3          ┆ 5856281  ┆ 2      ┆ 3       ┆ … ┆ 1      ┆ 0.0017   ┆ 0          ┆ 0    │\n",
       "│ 3          ┆ 5856282  ┆ 2      ┆ 3       ┆ … ┆ 1      ┆ 0.0017   ┆ 0          ┆ 0    │\n",
       "│ 3          ┆ 5856281  ┆ 2      ┆ 3       ┆ … ┆ 1      ┆ 0.0014   ┆ 1          ┆ 2    │\n",
       "│ 3          ┆ 5856282  ┆ 2      ┆ 3       ┆ … ┆ 1      ┆ 0.0014   ┆ 1          ┆ 2    │\n",
       "│ …          ┆ …        ┆ …      ┆ …       ┆ … ┆ …      ┆ …        ┆ …          ┆ …    │\n",
       "│ 3          ┆ 5856281  ┆ 2      ┆ 3       ┆ … ┆ 1      ┆ 0.0013   ┆ 11         ┆ 2    │\n",
       "│ 3          ┆ 5856282  ┆ 2      ┆ 3       ┆ … ┆ 1      ┆ 0.0013   ┆ 11         ┆ 2    │\n",
       "│ 3          ┆ 5856281  ┆ 2      ┆ 3       ┆ … ┆ 1      ┆ 0.0016   ┆ 11         ┆ 8    │\n",
       "│ 3          ┆ 5856282  ┆ 2      ┆ 3       ┆ … ┆ 1      ┆ 0.0016   ┆ 11         ┆ 8    │\n",
       "└────────────┴──────────┴────────┴─────────┴───┴────────┴──────────┴────────────┴──────┘"
      ]
     },
     "metadata": {},
     "output_type": "display_data"
    },
    {
     "data": {
      "text/html": [
       "<div><style>\n",
       ".dataframe > thead > tr > th,\n",
       ".dataframe > tbody > tr > td {\n",
       "  text-align: right;\n",
       "  white-space: pre-wrap;\n",
       "}\n",
       "</style>\n",
       "<small>shape: (54, 6)</small><table border=\"1\" class=\"dataframe\"><thead><tr><th>chromosome</th><th>start</th><th>end</th><th>modification</th><th>start_diff</th><th>end_diff</th></tr><tr><td>u8</td><td>u32</td><td>u32</td><td>str</td><td>i64</td><td>i64</td></tr></thead><tbody><tr><td>3</td><td>5856269</td><td>5856274</td><td>&quot;H3K27Me3&quot;</td><td>13</td><td>8</td></tr><tr><td>3</td><td>5856274</td><td>5856275</td><td>&quot;H3K27Me3&quot;</td><td>8</td><td>7</td></tr><tr><td>3</td><td>5856275</td><td>5856277</td><td>&quot;H3K27Me3&quot;</td><td>7</td><td>5</td></tr><tr><td>3</td><td>5856277</td><td>5856279</td><td>&quot;H3K27Me3&quot;</td><td>5</td><td>3</td></tr><tr><td>3</td><td>5856279</td><td>5856282</td><td>&quot;H3K27Me3&quot;</td><td>3</td><td>0</td></tr><tr><td>3</td><td>5856282</td><td>5856285</td><td>&quot;H3K27Me3&quot;</td><td>0</td><td>-3</td></tr><tr><td>3</td><td>5856285</td><td>5856288</td><td>&quot;H3K27Me3&quot;</td><td>-3</td><td>-6</td></tr><tr><td>3</td><td>5856288</td><td>5856291</td><td>&quot;H3K27Me3&quot;</td><td>-6</td><td>-9</td></tr><tr><td>3</td><td>5856291</td><td>5856292</td><td>&quot;H3K27Me3&quot;</td><td>-9</td><td>-10</td></tr><tr><td>3</td><td>5856292</td><td>5856293</td><td>&quot;H3K27Me3&quot;</td><td>-10</td><td>-11</td></tr><tr><td>3</td><td>5856271</td><td>5856273</td><td>&quot;H3&quot;</td><td>11</td><td>9</td></tr><tr><td>3</td><td>5856273</td><td>5856274</td><td>&quot;H3&quot;</td><td>9</td><td>8</td></tr><tr><td>&hellip;</td><td>&hellip;</td><td>&hellip;</td><td>&hellip;</td><td>&hellip;</td><td>&hellip;</td></tr><tr><td>3</td><td>5856288</td><td>5856289</td><td>&quot;H2AZ&quot;</td><td>-6</td><td>-7</td></tr><tr><td>3</td><td>5856289</td><td>5856291</td><td>&quot;H2AZ&quot;</td><td>-7</td><td>-9</td></tr><tr><td>3</td><td>5856291</td><td>5856292</td><td>&quot;H2AZ&quot;</td><td>-9</td><td>-10</td></tr><tr><td>3</td><td>5856292</td><td>5856296</td><td>&quot;H2AZ&quot;</td><td>-10</td><td>-14</td></tr><tr><td>3</td><td>5856267</td><td>5856273</td><td>&quot;H3K4Me3&quot;</td><td>15</td><td>9</td></tr><tr><td>3</td><td>5856273</td><td>5856274</td><td>&quot;H3K4Me3&quot;</td><td>9</td><td>8</td></tr><tr><td>3</td><td>5856274</td><td>5856280</td><td>&quot;H3K4Me3&quot;</td><td>8</td><td>2</td></tr><tr><td>3</td><td>5856280</td><td>5856295</td><td>&quot;H3K4Me3&quot;</td><td>2</td><td>-13</td></tr><tr><td>3</td><td>5856268</td><td>5856285</td><td>&quot;input&quot;</td><td>14</td><td>-3</td></tr><tr><td>3</td><td>5856285</td><td>5856290</td><td>&quot;input&quot;</td><td>-3</td><td>-8</td></tr><tr><td>3</td><td>5856290</td><td>5856292</td><td>&quot;input&quot;</td><td>-8</td><td>-10</td></tr><tr><td>3</td><td>5856292</td><td>5856315</td><td>&quot;input&quot;</td><td>-10</td><td>-33</td></tr></tbody></table></div>"
      ],
      "text/plain": [
       "shape: (54, 6)\n",
       "┌────────────┬─────────┬─────────┬──────────────┬────────────┬──────────┐\n",
       "│ chromosome ┆ start   ┆ end     ┆ modification ┆ start_diff ┆ end_diff │\n",
       "│ ---        ┆ ---     ┆ ---     ┆ ---          ┆ ---        ┆ ---      │\n",
       "│ u8         ┆ u32     ┆ u32     ┆ str          ┆ i64        ┆ i64      │\n",
       "╞════════════╪═════════╪═════════╪══════════════╪════════════╪══════════╡\n",
       "│ 3          ┆ 5856269 ┆ 5856274 ┆ H3K27Me3     ┆ 13         ┆ 8        │\n",
       "│ 3          ┆ 5856274 ┆ 5856275 ┆ H3K27Me3     ┆ 8          ┆ 7        │\n",
       "│ 3          ┆ 5856275 ┆ 5856277 ┆ H3K27Me3     ┆ 7          ┆ 5        │\n",
       "│ 3          ┆ 5856277 ┆ 5856279 ┆ H3K27Me3     ┆ 5          ┆ 3        │\n",
       "│ …          ┆ …       ┆ …       ┆ …            ┆ …          ┆ …        │\n",
       "│ 3          ┆ 5856268 ┆ 5856285 ┆ input        ┆ 14         ┆ -3       │\n",
       "│ 3          ┆ 5856285 ┆ 5856290 ┆ input        ┆ -3         ┆ -8       │\n",
       "│ 3          ┆ 5856290 ┆ 5856292 ┆ input        ┆ -8         ┆ -10      │\n",
       "│ 3          ┆ 5856292 ┆ 5856315 ┆ input        ┆ -10        ┆ -33      │\n",
       "└────────────┴─────────┴─────────┴──────────────┴────────────┴──────────┘"
      ]
     },
     "metadata": {},
     "output_type": "display_data"
    },
    {
     "data": {
      "text/html": [
       "<div><style>\n",
       ".dataframe > thead > tr > th,\n",
       ".dataframe > tbody > tr > td {\n",
       "  text-align: right;\n",
       "  white-space: pre-wrap;\n",
       "}\n",
       "</style>\n",
       "<small>shape: (0, 6)</small><table border=\"1\" class=\"dataframe\"><thead><tr><th>chromosome</th><th>start</th><th>end</th><th>state</th><th>start_diff</th><th>end_diff</th></tr><tr><td>u8</td><td>u32</td><td>u32</td><td>u8</td><td>i64</td><td>i64</td></tr></thead><tbody></tbody></table></div>"
      ],
      "text/plain": [
       "shape: (0, 6)\n",
       "┌────────────┬───────┬─────┬───────┬────────────┬──────────┐\n",
       "│ chromosome ┆ start ┆ end ┆ state ┆ start_diff ┆ end_diff │\n",
       "│ ---        ┆ ---   ┆ --- ┆ ---   ┆ ---        ┆ ---      │\n",
       "│ u8         ┆ u32   ┆ u32 ┆ u8    ┆ i64        ┆ i64      │\n",
       "╞════════════╪═══════╪═════╪═══════╪════════════╪══════════╡\n",
       "└────────────┴───────┴─────┴───────┴────────────┴──────────┘"
      ]
     },
     "metadata": {},
     "output_type": "display_data"
    }
   ],
   "source": [
    "import polars as pl\n",
    "from IPython.display import display\n",
    "\n",
    "batch_size = 1\n",
    "neighbourhood_size = 10\n",
    "\n",
    "\n",
    "\n",
    "\n",
    "\n",
    "\n",
    "\n",
    "def get_batch(mode):\n",
    "    offset = 0. if mode == \"train\" else 0.9\n",
    "    sample = 0.9 if mode == \"train\" else 0.1\n",
    "    sites =  client.query_arrow(f\"with sites as (select * except (trinucleotide_context, pedigree, id) from methylome sample {sample} offset {offset} where generation = 0 order by rand() limit {batch_size * 10}) select *, (location - start) as start_diff, (location - end) as end_diff from sites left join genes on sites.chromosome = genes.chromosome and sites.strand = genes.strand where sites.location between genes.start and genes.end limit {batch_size}\")\n",
    "\n",
    "    df = pl.DataFrame(sites)\n",
    "\n",
    "\n",
    "    df = df.drop([\"name\", \"genes.chromosome\", \"genes.strand\"]) # What about absolute Start and End?\n",
    "\n",
    "\n",
    "    display(df)\n",
    "\n",
    "    for site in df.iter_rows(named=True):\n",
    "        # Get each site in all generations and lines\n",
    "        all_generations_and_neighbours = client.query_arrow(f\"select * except (trinucleotide_context, pedigree, id) from methylome where chromosome = {site['chromosome']} and location between {site['location'] - neighbourhood_size }  and {site['location'] + neighbourhood_size}  and strand = {site['strand']} order by generation, line, location\")\n",
    "        g = pl.DataFrame(all_generations_and_neighbours)\n",
    "        display(g)\n",
    "\n",
    "       \n",
    "        # Get surrounding histone mods \n",
    "        histone_mods = client.query_arrow(f\"select *, ({site['location']} - start ) as start_diff, ({site['location']} -end) as end_diff from histone_mods where chromosome = {site['chromosome']} and (start between {site['location'] - neighbourhood_size }  and {site['location'] + neighbourhood_size} or end between {site['location'] - neighbourhood_size }  and {site['location'] + neighbourhood_size}) \")\n",
    "        h = pl.DataFrame(histone_mods)\n",
    "        display(h)\n",
    "        # Get surrounding chromatine states\n",
    "        chr_states = client.query_arrow(f\"select *, ({site['location']} - start ) as start_diff, ({site['location']} -end) as end_diff from chr_states where chromosome = {site['chromosome']} and (start between {site['location'] - neighbourhood_size }  and {site['location'] + neighbourhood_size} or end between {site['location'] - neighbourhood_size }  and {site['location'] + neighbourhood_size}) \")\n",
    "        c = pl.DataFrame(chr_states)\n",
    "        display(c)\n",
    "\n",
    "        \n",
    "        \n",
    "\n",
    "\n",
    "# sites_and_genes = client.query_arrow(\"with sites as (select * except trinucleotide_context, pedigree, id from methylome where generation = 0 order by rand() limit 10) select * from sites left join genes on sites.chromosome = genes.chromosome and sites.strand = genes.strand where sites.location between genes.start and genes.end\")\n",
    "# pl.DataFrame(sites_and_genes)\n",
    "\n",
    "\n",
    "get_batch(\"train\")"
   ]
  },
  {
   "cell_type": "code",
   "execution_count": 3,
   "metadata": {},
   "outputs": [
    {
     "data": {
      "text/html": [
       "<div><style>\n",
       ".dataframe > thead > tr > th,\n",
       ".dataframe > tbody > tr > td {\n",
       "  text-align: right;\n",
       "  white-space: pre-wrap;\n",
       "}\n",
       "</style>\n",
       "<small>shape: (65, 5)</small><table border=\"1\" class=\"dataframe\"><thead><tr><th>samples</th><th>chromosome</th><th>generation</th><th>line</th><th>pedigree</th></tr><tr><td>u64</td><td>u8</td><td>u8</td><td>u8</td><td>str</td></tr></thead><tbody><tr><td>10856447</td><td>1</td><td>0</td><td>0</td><td>&quot;MA3&quot;</td></tr><tr><td>10856447</td><td>1</td><td>1</td><td>2</td><td>&quot;MA3&quot;</td></tr><tr><td>10856447</td><td>1</td><td>1</td><td>8</td><td>&quot;MA3&quot;</td></tr><tr><td>10856447</td><td>1</td><td>2</td><td>2</td><td>&quot;MA3&quot;</td></tr><tr><td>10856447</td><td>1</td><td>2</td><td>8</td><td>&quot;MA3&quot;</td></tr><tr><td>10856447</td><td>1</td><td>4</td><td>2</td><td>&quot;MA3&quot;</td></tr><tr><td>10856447</td><td>1</td><td>4</td><td>8</td><td>&quot;MA3&quot;</td></tr><tr><td>10856447</td><td>1</td><td>5</td><td>2</td><td>&quot;MA3&quot;</td></tr><tr><td>10856447</td><td>1</td><td>5</td><td>8</td><td>&quot;MA3&quot;</td></tr><tr><td>10856447</td><td>1</td><td>8</td><td>2</td><td>&quot;MA3&quot;</td></tr><tr><td>10856447</td><td>1</td><td>8</td><td>8</td><td>&quot;MA3&quot;</td></tr><tr><td>10856447</td><td>1</td><td>11</td><td>2</td><td>&quot;MA3&quot;</td></tr><tr><td>&hellip;</td><td>&hellip;</td><td>&hellip;</td><td>&hellip;</td><td>&hellip;</td></tr><tr><td>9690976</td><td>5</td><td>1</td><td>2</td><td>&quot;MA3&quot;</td></tr><tr><td>9690976</td><td>5</td><td>1</td><td>8</td><td>&quot;MA3&quot;</td></tr><tr><td>9690976</td><td>5</td><td>2</td><td>2</td><td>&quot;MA3&quot;</td></tr><tr><td>9690976</td><td>5</td><td>2</td><td>8</td><td>&quot;MA3&quot;</td></tr><tr><td>9690976</td><td>5</td><td>4</td><td>2</td><td>&quot;MA3&quot;</td></tr><tr><td>9690976</td><td>5</td><td>4</td><td>8</td><td>&quot;MA3&quot;</td></tr><tr><td>9690976</td><td>5</td><td>5</td><td>2</td><td>&quot;MA3&quot;</td></tr><tr><td>9690976</td><td>5</td><td>5</td><td>8</td><td>&quot;MA3&quot;</td></tr><tr><td>9690976</td><td>5</td><td>8</td><td>2</td><td>&quot;MA3&quot;</td></tr><tr><td>9690976</td><td>5</td><td>8</td><td>8</td><td>&quot;MA3&quot;</td></tr><tr><td>9690976</td><td>5</td><td>11</td><td>2</td><td>&quot;MA3&quot;</td></tr><tr><td>9690976</td><td>5</td><td>11</td><td>8</td><td>&quot;MA3&quot;</td></tr></tbody></table></div>"
      ],
      "text/plain": [
       "shape: (65, 5)\n",
       "┌──────────┬────────────┬────────────┬──────┬──────────┐\n",
       "│ samples  ┆ chromosome ┆ generation ┆ line ┆ pedigree │\n",
       "│ ---      ┆ ---        ┆ ---        ┆ ---  ┆ ---      │\n",
       "│ u64      ┆ u8         ┆ u8         ┆ u8   ┆ str      │\n",
       "╞══════════╪════════════╪════════════╪══════╪══════════╡\n",
       "│ 10856447 ┆ 1          ┆ 0          ┆ 0    ┆ MA3      │\n",
       "│ 10856447 ┆ 1          ┆ 1          ┆ 2    ┆ MA3      │\n",
       "│ 10856447 ┆ 1          ┆ 1          ┆ 8    ┆ MA3      │\n",
       "│ 10856447 ┆ 1          ┆ 2          ┆ 2    ┆ MA3      │\n",
       "│ …        ┆ …          ┆ …          ┆ …    ┆ …        │\n",
       "│ 9690976  ┆ 5          ┆ 8          ┆ 2    ┆ MA3      │\n",
       "│ 9690976  ┆ 5          ┆ 8          ┆ 8    ┆ MA3      │\n",
       "│ 9690976  ┆ 5          ┆ 11         ┆ 2    ┆ MA3      │\n",
       "│ 9690976  ┆ 5          ┆ 11         ┆ 8    ┆ MA3      │\n",
       "└──────────┴────────────┴────────────┴──────┴──────────┘"
      ]
     },
     "execution_count": 3,
     "metadata": {},
     "output_type": "execute_result"
    }
   ],
   "source": [
    "import polars as pl\n",
    "import pyarrow as pa\n",
    "\n",
    "data_sizes = client.query_arrow(\"Select count(*) as samples,chromosome, generation, line, pedigree from methylome_wt group by chromosome, pedigree, generation, line order by chromosome, generation, line\")\n",
    "num_chromosomes = len(data_sizes['chromosome'].unique())\n",
    "\n",
    "data_sizes = pl.DataFrame(data_sizes)\n",
    "data_sizes"
   ]
  },
  {
   "cell_type": "code",
   "execution_count": null,
   "metadata": {},
   "outputs": [
    {
     "data": {
      "text/plain": [
       "{4: 6727432, 5: 9690976, 2: 7063707, 1: 10856447, 3: 8520954}"
      ]
     },
     "execution_count": 66,
     "metadata": {},
     "output_type": "execute_result"
    }
   ],
   "source": [
    "samples_per_chromosome = data_sizes.group_by(\"chromosome\").agg(pl.col(\"samples\").min())\n",
    "samples_per_chromosome =  samples_per_chromosome.to_struct(\"samples\")\n",
    "\n",
    "samples_per_chromosome.to_list()\n",
    "samples_per_chromosome = {item['chromosome']:item['samples'] for item in samples_per_chromosome.to_list()}\n",
    "samples_per_chromosome"
   ]
  },
  {
   "cell_type": "code",
   "execution_count": null,
   "metadata": {},
   "outputs": [
    {
     "data": {
      "text/plain": [
       "torch.Size([10000, 13])"
      ]
     },
     "execution_count": 27,
     "metadata": {},
     "output_type": "execute_result"
    }
   ],
   "source": [
    "import torch\n",
    "pedigree_dict = {\n",
    "    'MA3': 0,\n",
    "    'CMT3': 1,\n",
    "    'SUV456': 2,\n",
    "    'ROS': 3,\n",
    "    'NRPE': 4\n",
    "}\n",
    "\n",
    "trinucleotide_context = {\n",
    "'CTC': 0, \n",
    " 'CGA': 1,\n",
    " 'CCC':  2,\n",
    " 'CAT':  3,\n",
    " 'CCG':  4,\n",
    " 'CTG':  5,\n",
    " 'CAA':  6,\n",
    " 'CGT':  7,\n",
    " 'CTT':  8,\n",
    " 'CGG':  9,\n",
    " 'CGN':  10,\n",
    " 'CAC':  11,\n",
    " 'CCT':  12,\n",
    " 'CTA':  13,\n",
    " 'CGS':  14,\n",
    " 'CAG':  15,\n",
    " 'CGC':  16,\n",
    " 'CGK':  17,\n",
    " 'CCA': 18,\n",
    "}\n",
    "\n",
    "device = 'cuda' if torch.cuda.is_available() else 'cpu'\n",
    "\n",
    "def encode_methylome(df): \n",
    "    df = df.with_columns(\n",
    "        pl.col(\"pedigree\").map_dict(pedigree_dict).alias(\"pedigree\"),\n",
    "        pl.col(\"trinucelotide_context\").map_dict(trinucleotide_context).alias(\"trinucelotide_context\"),\n",
    "    )\n",
    "\n",
    "    data = torch.tensor(df.to_numpy(), dtype=torch.float32 ,device=device)\n",
    "\n",
    "    return data\n",
    "    # torch.tensor(df.to_numpy, dtype=torch.float32 ,device=device)\n",
    "\n",
    "batch_size = 6 * num_chromosomes # 6 samples per chromosome = 30 samples per batch\n",
    "block_size = 8\n",
    "\n",
    "def get_batch(context): \n",
    "    for i in range(num_chromosomes):\n",
    "\n",
    "        idx = torch.randint(0, samples_per_chromosome[i] - block_size, (batch_size,))\n",
    "\n",
    "    \n",
    "        methylome_first_batch = client.query_arrow(\"select * from methylome_wt where location between 0 and 100000 limit 1000\")\n",
    "    "
   ]
  },
  {
   "cell_type": "code",
   "execution_count": null,
   "metadata": {},
   "outputs": [
    {
     "data": {
      "text/plain": [
       "5"
      ]
     },
     "execution_count": 39,
     "metadata": {},
     "output_type": "execute_result"
    }
   ],
   "source": [
    "chromosome_lengths = "
   ]
  }
 ],
 "metadata": {
  "kernelspec": {
   "display_name": "Python 3",
   "language": "python",
   "name": "python3"
  },
  "language_info": {
   "codemirror_mode": {
    "name": "ipython",
    "version": 3
   },
   "file_extension": ".py",
   "mimetype": "text/x-python",
   "name": "python",
   "nbconvert_exporter": "python",
   "pygments_lexer": "ipython3",
   "version": "3.10.12"
  }
 },
 "nbformat": 4,
 "nbformat_minor": 2
}
