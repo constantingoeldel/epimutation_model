{
 "cells": [
  {
   "cell_type": "code",
   "execution_count": null,
   "metadata": {},
   "outputs": [],
   "source": [
    "# df = pl.read_csv(\"/mnt/fast/epigenomics/MA_Zilberman/GSM6198489_W16_B_TAIR10.chr.all.single-c.CG.bed\", separator=\"\\t\", ignore_errors=True).rename({\"seqnames\": \"chromosome\"})\n",
    "# display(df)\n",
    "# mean_meth_lvl = df.get_column(\"rc.meth.lvl\").mean()\n",
    "# print(mean_meth_lvl)"
   ]
  }
 ],
 "metadata": {
  "language_info": {
   "name": "python"
  },
  "orig_nbformat": 4
 },
 "nbformat": 4,
 "nbformat_minor": 2
}
