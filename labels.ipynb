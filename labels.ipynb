{
 "cells": [
  {
   "cell_type": "code",
   "execution_count": 1,
   "metadata": {},
   "outputs": [
    {
     "name": "stdout",
     "output_type": "stream",
     "text": [
      "['CHR1', 'CHR2', 'CHR3', 'CHR4', 'CHR5', 'NC_037304.1', 'NC_000932.1']\n",
      "1 30427671\n",
      "2 19698289\n",
      "3 23459830\n",
      "4 18585056\n",
      "5 26975502\n"
     ]
    }
   ],
   "source": [
    "from pysam import FastaFile\n",
    "dna = FastaFile(\"../genome/AT_reference/GCF_000001735.4_TAIR10.1_genomic.fna\")\n",
    "print(dna.references)\n",
    "chr_to_references = {\n",
    "    \"1\": \"CHR1\",\n",
    "    \"2\": \"CHR2\",\n",
    "    \"3\": \"CHR3\",\n",
    "    \"4\": \"CHR4\",\n",
    "    \"5\": \"CHR5\",\n",
    "}\n",
    "a = dna.fetch(chr_to_references[\"1\"], 0, 1000)\n",
    "\n",
    "print(1,dna.get_reference_length(chr_to_references[\"1\"]))\n",
    "print(2,dna.get_reference_length(chr_to_references[\"2\"]))\n",
    "print(3,dna.get_reference_length(chr_to_references[\"3\"]))\n",
    "print(4,dna.get_reference_length(chr_to_references[\"4\"]))\n",
    "print(5,dna.get_reference_length(chr_to_references[\"5\"]))\n",
    "\n",
    "\n",
    "encode_dict = {\n",
    "    \"[mask]\": 0,\n",
    "    \"A\": 1,\n",
    "    \"C\": 2,\n",
    "    \"G\": 3,\n",
    "    \"T\": 4,\n",
    "    \"Y\": 5, # C or T\n",
    "    \"R\": 6, # A or G\n",
    "    \"W\": 7, # A or T\n",
    "    \"S\": 8, # C or G\n",
    "    \"M\": 9, # A or C\n",
    "    \"K\": 10, # G or T\n",
    "    \"B\": 11, # C or G or T\n",
    "    \"D\": 12, # A or G or T\n",
    "    \"H\": 13, # A or C or T\n",
    "    \"V\": 14, # A or C or G\n",
    "    \"a\": 1,\n",
    "    \"c\": 2,\n",
    "    \"g\": 3,\n",
    "    \"t\": 4,\n",
    "    \"N\": -1,\n",
    "}\n",
    "\n",
    "encode_bases = lambda bases: [encode_dict[base] for base in bases]\n",
    "\n"
   ]
  },
  {
   "cell_type": "code",
   "execution_count": 2,
   "metadata": {},
   "outputs": [],
   "source": [
    "import polars as pl\n",
    "import numpy as np\n",
    "\n",
    "def meth_rates_to_labels(dna, meth_rates: pl.DataFrame):\n",
    "   \n",
    "\n",
    "    labels_by_chrsm = {}\n",
    "    for (chrsm, rates) in meth_rates.partition_by(\"chrsm\", as_dict=True).items():\n",
    "        print(chrsm, rates.height)\n",
    "        sequence = pl.DataFrame({ \"sequence\": encode_bases(dna.fetch(chr_to_references[f\"{chrsm}\"]))})\n",
    "        a = np.zeros(sequence.height, dtype=np.float32)\n",
    "        b = np.zeros(sequence.height, dtype=np.float32)\n",
    "        std_st = np.zeros(sequence.height, dtype=np.float32)\n",
    "        for row in rates.iter_rows(named=True):\n",
    "            \n",
    "            a[row[\"start\"] - 1 :row[\"end\"] -1] = row[\"alpha\"]\n",
    "            b[row[\"start\"] - 1 :row[\"end\"] -1] = row[\"beta\"]\n",
    "            std_st[row[\"start\"] - 1:row[\"end\"] -1] = row[\"std_st\"]\n",
    "\n",
    "        labels = sequence.with_columns(pl.Series(\"alpha\", a), pl.Series(\"beta\", b), pl.Series(\"std_st\", std_st))\n",
    "\n",
    "        labels = labels.with_columns(pl.when(pl.col(\"sequence\") == 2).then(pl.col(\"alpha\")).otherwise(pl.lit(0.)).alias(\"alpha\"))\n",
    "        labels = labels.with_columns(pl.when(pl.col(\"sequence\") == 2).then(pl.col(\"beta\")).otherwise(pl.lit(0.)).alias(\"beta\"))\n",
    "        labels = labels.with_columns(pl.when(pl.col(\"sequence\") == 2).then(pl.col(\"std_st\")).otherwise(pl.lit(0.)).alias(\"std_st\"))\n",
    "\n",
    "        labels_by_chrsm[chrsm] = labels\n",
    "\n",
    "    return labels_by_chrsm\n",
    "\n",
    "\n"
   ]
  },
  {
   "cell_type": "code",
   "execution_count": 3,
   "metadata": {},
   "outputs": [
    {
     "data": {
      "text/html": [
       "<div><style>\n",
       ".dataframe > thead > tr,\n",
       ".dataframe > tbody > tr {\n",
       "  text-align: right;\n",
       "  white-space: pre-wrap;\n",
       "}\n",
       "</style>\n",
       "<small>shape: (10_878, 7)</small><table border=\"1\" class=\"dataframe\"><thead><tr><th>chrsm</th><th>slice</th><th>start</th><th>end</th><th>alpha</th><th>beta</th><th>std_st</th></tr><tr><td>i64</td><td>i64</td><td>i64</td><td>i64</td><td>f64</td><td>f64</td><td>f64</td></tr></thead><tbody><tr><td>1</td><td>0</td><td>109</td><td>13847</td><td>0.000358</td><td>0.000777</td><td>0.315301</td></tr><tr><td>1</td><td>1</td><td>14028</td><td>25710</td><td>-0.000013</td><td>-0.000015</td><td>0.462841</td></tr><tr><td>1</td><td>2</td><td>25773</td><td>37623</td><td>0.000143</td><td>0.000895</td><td>0.137958</td></tr><tr><td>1</td><td>3</td><td>37633</td><td>49293</td><td>0.000266</td><td>0.00173</td><td>0.13333</td></tr><tr><td>1</td><td>4</td><td>49298</td><td>58021</td><td>-0.000002</td><td>-0.000005</td><td>0.233663</td></tr><tr><td>1</td><td>5</td><td>58023</td><td>67408</td><td>0.000375</td><td>0.002987</td><td>0.111565</td></tr><tr><td>1</td><td>6</td><td>67422</td><td>76161</td><td>0.000296</td><td>0.002415</td><td>0.109145</td></tr><tr><td>1</td><td>7</td><td>76167</td><td>84725</td><td>0.000422</td><td>0.004273</td><td>0.089841</td></tr><tr><td>1</td><td>8</td><td>84741</td><td>95899</td><td>0.000234</td><td>0.004251</td><td>0.052193</td></tr><tr><td>1</td><td>9</td><td>95905</td><td>105721</td><td>0.000044</td><td>0.005389</td><td>0.008037</td></tr><tr><td>1</td><td>10</td><td>105767</td><td>114336</td><td>-0.000758</td><td>-0.000135</td><td>0.84842</td></tr><tr><td>1</td><td>11</td><td>114342</td><td>120503</td><td>0.000375</td><td>0.002331</td><td>0.138559</td></tr><tr><td>&hellip;</td><td>&hellip;</td><td>&hellip;</td><td>&hellip;</td><td>&hellip;</td><td>&hellip;</td><td>&hellip;</td></tr><tr><td>5</td><td>2451</td><td>26873964</td><td>26883399</td><td>0.000473</td><td>0.002381</td><td>0.165713</td></tr><tr><td>5</td><td>2452</td><td>26883430</td><td>26896079</td><td>0.001042</td><td>0.001507</td><td>0.40874</td></tr><tr><td>5</td><td>2453</td><td>26896129</td><td>26903672</td><td>0.000349</td><td>0.001949</td><td>0.151888</td></tr><tr><td>5</td><td>2454</td><td>26903715</td><td>26911574</td><td>0.000073</td><td>0.000893</td><td>0.075229</td></tr><tr><td>5</td><td>2455</td><td>26911589</td><td>26920067</td><td>0.001088</td><td>0.000193</td><td>0.849286</td></tr><tr><td>5</td><td>2456</td><td>26920260</td><td>26929510</td><td>3.2262e-7</td><td>0.000083</td><td>0.003863</td></tr><tr><td>5</td><td>2457</td><td>26929514</td><td>26938126</td><td>0.0</td><td>0.0</td><td>0.0</td></tr><tr><td>5</td><td>2458</td><td>26938132</td><td>26946998</td><td>0.000073</td><td>0.002648</td><td>0.026791</td></tr><tr><td>5</td><td>2459</td><td>26947046</td><td>26955364</td><td>0.000013</td><td>0.00475</td><td>0.002666</td></tr><tr><td>5</td><td>2460</td><td>26955368</td><td>26965595</td><td>0.000156</td><td>0.000983</td><td>0.136705</td></tr><tr><td>5</td><td>2461</td><td>26965628</td><td>26974278</td><td>0.000299</td><td>0.003384</td><td>0.081184</td></tr><tr><td>5</td><td>2462</td><td>26974284</td><td>26975387</td><td>0.000042</td><td>0.000347</td><td>0.108189</td></tr></tbody></table></div>"
      ],
      "text/plain": [
       "shape: (10_878, 7)\n",
       "┌───────┬───────┬──────────┬──────────┬───────────┬───────────┬──────────┐\n",
       "│ chrsm ┆ slice ┆ start    ┆ end      ┆ alpha     ┆ beta      ┆ std_st   │\n",
       "│ ---   ┆ ---   ┆ ---      ┆ ---      ┆ ---       ┆ ---       ┆ ---      │\n",
       "│ i64   ┆ i64   ┆ i64      ┆ i64      ┆ f64       ┆ f64       ┆ f64      │\n",
       "╞═══════╪═══════╪══════════╪══════════╪═══════════╪═══════════╪══════════╡\n",
       "│ 1     ┆ 0     ┆ 109      ┆ 13847    ┆ 0.000358  ┆ 0.000777  ┆ 0.315301 │\n",
       "│ 1     ┆ 1     ┆ 14028    ┆ 25710    ┆ -0.000013 ┆ -0.000015 ┆ 0.462841 │\n",
       "│ 1     ┆ 2     ┆ 25773    ┆ 37623    ┆ 0.000143  ┆ 0.000895  ┆ 0.137958 │\n",
       "│ 1     ┆ 3     ┆ 37633    ┆ 49293    ┆ 0.000266  ┆ 0.00173   ┆ 0.13333  │\n",
       "│ …     ┆ …     ┆ …        ┆ …        ┆ …         ┆ …         ┆ …        │\n",
       "│ 5     ┆ 2459  ┆ 26947046 ┆ 26955364 ┆ 0.000013  ┆ 0.00475   ┆ 0.002666 │\n",
       "│ 5     ┆ 2460  ┆ 26955368 ┆ 26965595 ┆ 0.000156  ┆ 0.000983  ┆ 0.136705 │\n",
       "│ 5     ┆ 2461  ┆ 26965628 ┆ 26974278 ┆ 0.000299  ┆ 0.003384  ┆ 0.081184 │\n",
       "│ 5     ┆ 2462  ┆ 26974284 ┆ 26975387 ┆ 0.000042  ┆ 0.000347  ┆ 0.108189 │\n",
       "└───────┴───────┴──────────┴──────────┴───────────┴───────────┴──────────┘"
      ]
     },
     "metadata": {},
     "output_type": "display_data"
    },
    {
     "data": {
      "text/html": [
       "<div><style>\n",
       ".dataframe > thead > tr,\n",
       ".dataframe > tbody > tr {\n",
       "  text-align: right;\n",
       "  white-space: pre-wrap;\n",
       "}\n",
       "</style>\n",
       "<small>shape: (1, 8)</small><table border=\"1\" class=\"dataframe\"><thead><tr><th>chrsm</th><th>slice</th><th>start</th><th>end</th><th>alpha</th><th>beta</th><th>std_st</th><th>diff</th></tr><tr><td>f64</td><td>f64</td><td>f64</td><td>f64</td><td>f64</td><td>f64</td><td>f64</td><td>f64</td></tr></thead><tbody><tr><td>2.945394</td><td>1121.503953</td><td>1.2259e7</td><td>1.2270e7</td><td>0.000897</td><td>0.004569</td><td>0.230539</td><td>10910.490991</td></tr></tbody></table></div>"
      ],
      "text/plain": [
       "shape: (1, 8)\n",
       "┌──────────┬─────────────┬──────────┬──────────┬──────────┬──────────┬──────────┬──────────────┐\n",
       "│ chrsm    ┆ slice       ┆ start    ┆ end      ┆ alpha    ┆ beta     ┆ std_st   ┆ diff         │\n",
       "│ ---      ┆ ---         ┆ ---      ┆ ---      ┆ ---      ┆ ---      ┆ ---      ┆ ---          │\n",
       "│ f64      ┆ f64         ┆ f64      ┆ f64      ┆ f64      ┆ f64      ┆ f64      ┆ f64          │\n",
       "╞══════════╪═════════════╪══════════╪══════════╪══════════╪══════════╪══════════╪══════════════╡\n",
       "│ 2.945394 ┆ 1121.503953 ┆ 1.2259e7 ┆ 1.2270e7 ┆ 0.000897 ┆ 0.004569 ┆ 0.230539 ┆ 10910.490991 │\n",
       "└──────────┴─────────────┴──────────┴──────────┴──────────┴──────────┴──────────┴──────────────┘"
      ]
     },
     "metadata": {},
     "output_type": "display_data"
    },
    {
     "name": "stdout",
     "output_type": "stream",
     "text": [
      "1 2725\n",
      "2 1788\n",
      "3 2184\n",
      "4 1718\n",
      "5 2463\n"
     ]
    },
    {
     "data": {
      "text/html": [
       "<div><style>\n",
       ".dataframe > thead > tr,\n",
       ".dataframe > tbody > tr {\n",
       "  text-align: right;\n",
       "  white-space: pre-wrap;\n",
       "}\n",
       "</style>\n",
       "<small>shape: (30, 4)</small><table border=\"1\" class=\"dataframe\"><thead><tr><th>sequence</th><th>alpha</th><th>beta</th><th>std_st</th></tr><tr><td>i64</td><td>f32</td><td>f32</td><td>f32</td></tr></thead><tbody><tr><td>2</td><td>0.0</td><td>0.0</td><td>0.0</td></tr><tr><td>2</td><td>0.0</td><td>0.0</td><td>0.0</td></tr><tr><td>4</td><td>0.0</td><td>0.0</td><td>0.0</td></tr><tr><td>1</td><td>0.0</td><td>0.0</td><td>0.0</td></tr><tr><td>1</td><td>0.0</td><td>0.0</td><td>0.0</td></tr><tr><td>1</td><td>0.0</td><td>0.0</td><td>0.0</td></tr><tr><td>2</td><td>0.0</td><td>0.0</td><td>0.0</td></tr><tr><td>2</td><td>0.0</td><td>0.0</td><td>0.0</td></tr><tr><td>2</td><td>0.000358</td><td>0.000777</td><td>0.315301</td></tr><tr><td>3</td><td>0.0</td><td>0.0</td><td>0.0</td></tr><tr><td>1</td><td>0.0</td><td>0.0</td><td>0.0</td></tr><tr><td>1</td><td>0.0</td><td>0.0</td><td>0.0</td></tr><tr><td>&hellip;</td><td>&hellip;</td><td>&hellip;</td><td>&hellip;</td></tr><tr><td>4</td><td>0.0</td><td>0.0</td><td>0.0</td></tr><tr><td>4</td><td>0.0</td><td>0.0</td><td>0.0</td></tr><tr><td>2</td><td>0.000358</td><td>0.000777</td><td>0.315301</td></tr><tr><td>4</td><td>0.0</td><td>0.0</td><td>0.0</td></tr><tr><td>2</td><td>0.000358</td><td>0.000777</td><td>0.315301</td></tr><tr><td>4</td><td>0.0</td><td>0.0</td><td>0.0</td></tr><tr><td>3</td><td>0.0</td><td>0.0</td><td>0.0</td></tr><tr><td>3</td><td>0.0</td><td>0.0</td><td>0.0</td></tr><tr><td>4</td><td>0.0</td><td>0.0</td><td>0.0</td></tr><tr><td>4</td><td>0.0</td><td>0.0</td><td>0.0</td></tr><tr><td>3</td><td>0.0</td><td>0.0</td><td>0.0</td></tr><tr><td>1</td><td>0.0</td><td>0.0</td><td>0.0</td></tr></tbody></table></div>"
      ],
      "text/plain": [
       "shape: (30, 4)\n",
       "┌──────────┬───────┬──────┬────────┐\n",
       "│ sequence ┆ alpha ┆ beta ┆ std_st │\n",
       "│ ---      ┆ ---   ┆ ---  ┆ ---    │\n",
       "│ i64      ┆ f32   ┆ f32  ┆ f32    │\n",
       "╞══════════╪═══════╪══════╪════════╡\n",
       "│ 2        ┆ 0.0   ┆ 0.0  ┆ 0.0    │\n",
       "│ 2        ┆ 0.0   ┆ 0.0  ┆ 0.0    │\n",
       "│ 4        ┆ 0.0   ┆ 0.0  ┆ 0.0    │\n",
       "│ 1        ┆ 0.0   ┆ 0.0  ┆ 0.0    │\n",
       "│ …        ┆ …     ┆ …    ┆ …      │\n",
       "│ 4        ┆ 0.0   ┆ 0.0  ┆ 0.0    │\n",
       "│ 4        ┆ 0.0   ┆ 0.0  ┆ 0.0    │\n",
       "│ 3        ┆ 0.0   ┆ 0.0  ┆ 0.0    │\n",
       "│ 1        ┆ 0.0   ┆ 0.0  ┆ 0.0    │\n",
       "└──────────┴───────┴──────┴────────┘"
      ]
     },
     "metadata": {},
     "output_type": "display_data"
    }
   ],
   "source": [
    "meth_rates = pl.read_parquet(\"alphabeta_512.parquet\")\n",
    "display(meth_rates)\n",
    "display(meth_rates.with_columns((pl.col(\"end\") - pl.col(\"start\")).alias(\"diff\")).mean())\n",
    "\n",
    "labels_by_chrms = meth_rates_to_labels(dna, meth_rates)\n",
    "display(labels_by_chrms[1][100:130])\n",
    "\n"
   ]
  },
  {
   "cell_type": "code",
   "execution_count": 9,
   "metadata": {},
   "outputs": [],
   "source": [
    "for (chrsm, labels) in labels_by_chrms.items():\n",
    "    labels.write_parquet(f\"./labels/{chrsm}.parquet\")\n",
    "    labels.to_numpy().tofile(f\"./labels/{chrsm}.bin\")\n"
   ]
  }
 ],
 "metadata": {
  "kernelspec": {
   "display_name": ".env",
   "language": "python",
   "name": "python3"
  },
  "language_info": {
   "codemirror_mode": {
    "name": "ipython",
    "version": 3
   },
   "file_extension": ".py",
   "mimetype": "text/x-python",
   "name": "python",
   "nbconvert_exporter": "python",
   "pygments_lexer": "ipython3",
   "version": "3.10.12"
  },
  "orig_nbformat": 4
 },
 "nbformat": 4,
 "nbformat_minor": 2
}
